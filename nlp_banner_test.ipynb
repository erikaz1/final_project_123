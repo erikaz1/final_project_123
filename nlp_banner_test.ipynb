{
 "cells": [
  {
   "cell_type": "markdown",
   "metadata": {},
   "source": [
    "## Applying NLP methods to analyze cookie banner text\n",
    "No need to click into cookie policy, as studies have shown that most users do not do that far to educate themselves before deciding how they want to engage with site cookies.\n",
    "\n",
    "This notebook expores: \n",
    "1. NLP to detect misleading text\n",
    "2. Sentiment analysis: +/- framing"
   ]
  },
  {
   "cell_type": "markdown",
   "metadata": {},
   "source": [
    "### 1. NLP to Detect Misleading Text\n",
    "* SparkNLP\n",
    "* LLMs\n",
    "\n",
    "<font color=\"salmon\">How did [Santos et al. (2021)](https://dl.acm.org/doi/abs/10.1145/3463676.3485611) conduct their text analysis? What did they collect?</font>\n",
    "\n",
    "1. CODEBOOK: Qualitative coding with [MAXQDA](https://www.maxqda.com) and intercoder-reliable **codebook**\n",
    "    * OUR USE: Supervised learning, feed model examples of codes \n",
    "\n",
    "2. LEGAL REQ: from EU law (ePD, GDPR, case law, European Protection Board, DPAs)\n",
    "    * OUR USE: update their categories & use them as code categories for banners\n",
    "\n",
    "\n",
    "<font color=\"salmon\">Essentially, we can replicate their study:</font>\n",
    "1. For the US\n",
    "2. At larger scale\n",
    "3. Specific things to code: \n",
    "    * Technical jargon\n",
    "    * Vague, ambiguous language\n",
    "    * Misleading statements\n",
    "    * Positve/negative framing"
   ]
  },
  {
   "cell_type": "markdown",
   "metadata": {},
   "source": [
    "### SPARK NLP\n",
    "\n",
    "* [Annotators](https://sparknlp.org/docs/en/annotators)"
   ]
  },
  {
   "cell_type": "code",
   "execution_count": null,
   "metadata": {},
   "outputs": [],
   "source": []
  },
  {
   "cell_type": "markdown",
   "metadata": {},
   "source": [
    "### 2. Sentiment Analysis (+/- framing)\n",
    "\n",
    "* BERT \n",
    "    - State of the art\n",
    "    - Computationally intensive, a lot of environment setup required\n",
    "    - Takes a while if conducted on very large datasets on a single machine\n",
    "    - May take GPUs\n",
    "* Spark NLP\n",
    "    - Has pre-trained models for sentiment analysis that apparently work reasonably well (we can cross-validate with BERT & human labels)\n",
    "    - Designed to scale and distribute computational workload across multiple machines\n",
    "    - CPUs\n",
    "    - Overhead for setting up Spark cluster may not be worth it...\n",
    "    - Strength = real-time data streams and processing\n",
    "    - Integrated into Spark ecosystem\n",
    "\n",
    "Which to choose?\n",
    "BERT\n",
    "- Sentiment analysis of cookie banner text is probably best concieved as a one-time task. And I don't imagine collecting over 1 million banners (Santos et al. (2021) only coded 407). \n",
    "- If the data is not too large, we use BERT\n",
    "\n",
    "SPARK NLP\n",
    "- If we want to integrate the sentiment analysis as part of a larger pipeline. Why? Maybe we are scouring the internet and have new websites that need new analysis on an ongoing basis?\n",
    "\n",
    "VERDICT: BERT (unless)\n",
    "* Static dataset of cookie banner text\n",
    "* Reasonably sized corpus\n",
    "* We can store all of the text in one place, extract them into one worker, and conduct the sentiment analysis"
   ]
  },
  {
   "cell_type": "markdown",
   "metadata": {},
   "source": [
    "### Pipeline\n",
    "\n",
    "1. AWS Lambda to scrape and store cookie banner info in S3 (because we want LT)\n",
    "    * Could also store momentarily in DynamoDB if any site records need updating\n",
    "2. Set up EC2 instance or AWS Batch job to periodically extract and preprocess cookie banner text (cleaning, normalizing, etc.)\n",
    "3. Set up EC2 instance wth GPU support to run BERT model for sentiment analysis. OR download the data and run this locally (we don't have access to GPUs on AWS I think)\n",
    "4. Store results in S3 for retrieval and analysis"
   ]
  }
 ],
 "metadata": {
  "language_info": {
   "name": "python"
  }
 },
 "nbformat": 4,
 "nbformat_minor": 2
}
